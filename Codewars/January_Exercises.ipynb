{
 "cells": [
  {
   "cell_type": "markdown",
   "metadata": {},
   "source": [
    "## Exercise 1\n",
    "\n",
    "An isogram is a word that has no repeating letters, consecutive or non-consecutive. Implement a function that determines whether a string that contains only letters is an isogram. Assume the empty string is an isogram. Ignore letter case.\n",
    "\n",
    "Example: (Input --> Output)\n",
    "\n",
    "\"Dermatoglyphics\" --> true \"aba\" --> false \"moOse\" --> false (ignore letter case)\n",
    "\n",
    "isIsogram \"Dermatoglyphics\" = true\n",
    "isIsogram \"moose\" = false\n",
    "isIsogram \"aba\" = false"
   ]
  },
  {
   "cell_type": "markdown",
   "metadata": {},
   "source": [
    "#### MY SOLUTION"
   ]
  },
  {
   "cell_type": "code",
   "execution_count": 1,
   "metadata": {},
   "outputs": [
    {
     "data": {
      "text/plain": [
       "False"
      ]
     },
     "execution_count": 1,
     "metadata": {},
     "output_type": "execute_result"
    }
   ],
   "source": [
    "def is_isogram(string):\n",
    "    \n",
    "    string = string.lower()\n",
    "    if len(string) == 0:\n",
    "        return True\n",
    "    \n",
    "    else:\n",
    "        seen = []\n",
    "        for _ in string:\n",
    "            if _ not in seen:\n",
    "                seen.append(_)\n",
    "            else:\n",
    "                return False\n",
    "        return True\n",
    "\n",
    "user_input = input()\n",
    "is_isogram(user_input)"
   ]
  },
  {
   "cell_type": "markdown",
   "metadata": {},
   "source": [
    "#### CLEVER SOLUTION"
   ]
  },
  {
   "cell_type": "code",
   "execution_count": 3,
   "metadata": {},
   "outputs": [
    {
     "data": {
      "text/plain": [
       "False"
      ]
     },
     "execution_count": 3,
     "metadata": {},
     "output_type": "execute_result"
    }
   ],
   "source": [
    "def is_isogram(string):\n",
    "    return len(string) == len(set(string.lower()))\n",
    "    \n",
    "user_input = input()\n",
    "is_isogram(user_input)"
   ]
  },
  {
   "cell_type": "markdown",
   "metadata": {},
   "source": [
    "------------------------------------------------------------------------------------------------------------------------------------------------------------"
   ]
  },
  {
   "cell_type": "markdown",
   "metadata": {},
   "source": [
    "## Exercise 2\n",
    "\n",
    "ATM machines allow 4 or 6 digit PIN codes and PIN codes cannot contain anything but exactly 4 digits or exactly 6 digits.\n",
    "\n",
    "If the function is passed a valid PIN string, return true, else return false.\n",
    "\n",
    "Examples (Input --> Output)\n",
    "\"1234\"   -->  true\n",
    "\"12345\"  -->  false\n",
    "\"a234\"   -->  false"
   ]
  },
  {
   "cell_type": "markdown",
   "metadata": {},
   "source": [
    "#### MY SOLUTION"
   ]
  },
  {
   "cell_type": "code",
   "execution_count": 4,
   "metadata": {},
   "outputs": [
    {
     "data": {
      "text/plain": [
       "True"
      ]
     },
     "execution_count": 4,
     "metadata": {},
     "output_type": "execute_result"
    }
   ],
   "source": [
    "def validate_pin(pin):\n",
    "    valid_elements = ['0', '1', '2', '3', '4',\n",
    "                      '5', '6', '7', '8', '9']\n",
    "    if len(pin) == 4 or len(pin) == 6:\n",
    "        for _ in pin:\n",
    "            if _ not in valid_elements:\n",
    "                return False\n",
    "        return True\n",
    "    else:\n",
    "        return False\n",
    "\n",
    "user_input = input()\n",
    "validate_pin(user_input)"
   ]
  },
  {
   "cell_type": "markdown",
   "metadata": {},
   "source": [
    "#### CLEVER SOLUTION"
   ]
  },
  {
   "cell_type": "code",
   "execution_count": 5,
   "metadata": {},
   "outputs": [
    {
     "data": {
      "text/plain": [
       "True"
      ]
     },
     "execution_count": 5,
     "metadata": {},
     "output_type": "execute_result"
    }
   ],
   "source": [
    "def validate_pin(pin):\n",
    "    return len(pin) in (4, 6) and pin.isdigit()\n",
    "\n",
    "user_input = input()\n",
    "validate_pin(user_input)"
   ]
  },
  {
   "cell_type": "markdown",
   "metadata": {},
   "source": [
    "##### Notes:\n",
    "\n",
    "user: leztien (4 kyu) 14 months ago\n",
    "\"¹234\" returns True because str.isdigit treats superscripts as digits. str.isdecimal should be used instead."
   ]
  },
  {
   "cell_type": "markdown",
   "metadata": {},
   "source": [
    "-------------------"
   ]
  },
  {
   "cell_type": "markdown",
   "metadata": {},
   "source": [
    "## Exercise 3\n",
    "#### Algorithns, Arrays, Fundamentals\n",
    "\n",
    "You are going to be given an array of integers. Your job is to take that array and find an index N where the sum of the integers to the left of N is equal to the sum of the integers to the right of N. If there is no index that would make this happen, return -1.\n",
    "\n",
    "For example:\n",
    "\n",
    "Let's say you are given the array {1,2,3,4,3,2,1}:\n",
    "Your function will return the index 3, because at the 3rd position of the array, the sum of left side of the index ({1,2,3}) and the sum of the right side of the index ({3,2,1}) both equal 6.\n",
    "\n",
    "Let's look at another one.\n",
    "You are given the array {1,100,50,-51,1,1}:\n",
    "Your function will return the index 1, because at the 1st position of the array, the sum of left side of the index ({1}) and the sum of the right side of the index ({50,-51,1,1}) both equal 1.\n",
    "\n",
    "Last one:\n",
    "You are given the array {20,10,-80,10,10,15,35}\n",
    "At index 0 the left side is {}\n",
    "The right side is {10,-80,10,10,15,35}\n",
    "They both are equal to 0 when added. (Empty arrays are equal to 0 in this problem)\n",
    "Index 0 is the place where the left side and right side are equal.\n",
    "\n",
    "Note: Please remember that in most programming/scripting languages the index of an array starts at 0.\n",
    "\n",
    "Input:\n",
    "An integer array of length 0 < arr < 1000. The numbers in the array can be any integer positive or negative.\n",
    "\n",
    "Output:\n",
    "The lowest index N where the side to the left of N is equal to the side to the right of N. If you do not find an index that fits these rules, then you will return -1.\n",
    "\n",
    "Note:\n",
    "If you are given an array with multiple answers, return the lowest correct index."
   ]
  },
  {
   "cell_type": "markdown",
   "metadata": {},
   "source": [
    "#### MY SOLUTION"
   ]
  },
  {
   "cell_type": "code",
   "execution_count": 19,
   "metadata": {},
   "outputs": [
    {
     "data": {
      "text/plain": [
       "3"
      ]
     },
     "execution_count": 19,
     "metadata": {},
     "output_type": "execute_result"
    }
   ],
   "source": [
    "def find_even_index(arr):\n",
    "    candidates = []\n",
    "    for index, element in enumerate(arr):\n",
    "        if sum(arr[0:index]) == sum(arr[index + 1::]):\n",
    "            candidates.append(index)\n",
    "    if len(candidates) == 0:\n",
    "        return -1\n",
    "    else:\n",
    "        return min(candidates)\n",
    "\n",
    "test = [1,2,3,4,3,2,1]\n",
    "find_even_index(test)"
   ]
  },
  {
   "cell_type": "markdown",
   "metadata": {},
   "source": [
    "#### CLEVER SOLUTION"
   ]
  },
  {
   "cell_type": "code",
   "execution_count": 20,
   "metadata": {},
   "outputs": [
    {
     "data": {
      "text/plain": [
       "3"
      ]
     },
     "execution_count": 20,
     "metadata": {},
     "output_type": "execute_result"
    }
   ],
   "source": [
    "def find_even_index(arr):\n",
    "    for i in range(len(arr)):\n",
    "        if sum(arr[:i]) == sum(arr[i+1:]):\n",
    "            return i\n",
    "    return -1\n",
    "\n",
    "test = [1,2,3,4,3,2,1]\n",
    "find_even_index(test)"
   ]
  },
  {
   "cell_type": "markdown",
   "metadata": {},
   "source": [
    "-------------------"
   ]
  },
  {
   "cell_type": "markdown",
   "metadata": {},
   "source": [
    "## Exercise 4\n",
    "#### Fundamentals\n",
    "\n",
    "Simple, given a string of words, return the length of the shortest word(s).\n",
    "\n",
    "String will never be empty and you do not need to account for different data types."
   ]
  },
  {
   "cell_type": "markdown",
   "metadata": {},
   "source": [
    "#### MY SOLUTION"
   ]
  },
  {
   "cell_type": "code",
   "execution_count": 23,
   "metadata": {},
   "outputs": [
    {
     "data": {
      "text/plain": [
       "2"
      ]
     },
     "execution_count": 23,
     "metadata": {},
     "output_type": "execute_result"
    }
   ],
   "source": [
    "def find_short(s):\n",
    "    word_lengths = []\n",
    "    current_length = 0\n",
    "    for index, chr in enumerate(s):\n",
    "        \n",
    "        if chr != \" \":\n",
    "            current_length += 1\n",
    "        else:\n",
    "            word_lengths.append(current_length)\n",
    "            current_length = 0\n",
    "            \n",
    "        if index + 1 == len(s):\n",
    "            word_lengths.append(current_length)\n",
    "            \n",
    "    return min(word_lengths)\n",
    "\n",
    "test = \"Math is my favorite subject.\"\n",
    "find_short(test)"
   ]
  },
  {
   "cell_type": "markdown",
   "metadata": {},
   "source": [
    "#### CLEVER SOLUTION"
   ]
  },
  {
   "cell_type": "code",
   "execution_count": 22,
   "metadata": {},
   "outputs": [
    {
     "data": {
      "text/plain": [
       "1"
      ]
     },
     "execution_count": 22,
     "metadata": {},
     "output_type": "execute_result"
    }
   ],
   "source": [
    "def find_short(s):\n",
    "    return min(len(x) for x in s.split())\n",
    "\n",
    "test = \"This is just a random sentence.\"\n",
    "find_short(test)"
   ]
  },
  {
   "cell_type": "code",
   "execution_count": null,
   "metadata": {},
   "outputs": [],
   "source": []
  }
 ],
 "metadata": {
  "kernelspec": {
   "display_name": "slac_env",
   "language": "python",
   "name": "python3"
  },
  "language_info": {
   "codemirror_mode": {
    "name": "ipython",
    "version": 3
   },
   "file_extension": ".py",
   "mimetype": "text/x-python",
   "name": "python",
   "nbconvert_exporter": "python",
   "pygments_lexer": "ipython3",
   "version": "3.11.4"
  }
 },
 "nbformat": 4,
 "nbformat_minor": 2
}
